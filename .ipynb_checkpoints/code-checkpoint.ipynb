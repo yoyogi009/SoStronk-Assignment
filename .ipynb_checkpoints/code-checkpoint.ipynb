{
 "cells": [
  {
   "cell_type": "raw",
   "metadata": {},
   "source": [
    "Approach to solution:-\n",
    "\n",
    "1. I am going to use a dictionary to store the player name and scores. \n",
    "2. I will make name as keys and scores as values, it is because names of players(userID) will always be unique while scores can be same.\n",
    "3. Then I will be putting the names and scores in their specific lists so that we can perform operations easily.(to be used in step 6)\n",
    "4. Now for making combinations of M vs M , I will be first make combinations of M players from all existing players.\n",
    "5. After that I will figure out the unique pairs of M vs M matches.\n",
    "\n",
    "After successfully forming M vs M unique matches now I will sort out the matches based on their scores:-\n",
    "\n",
    "6. For this I will perform the operations on the lists created in step 3. \n",
    "7. First I will find the average scores all the combinations of M players that were made in step 4.\n",
    "8. Then based on unique matches of step4 , I will be find the difference between the scores of each M vs M matches.\n",
    "9. Then at last I will sort the matches according to their least scores differences.\n"
   ]
  },
  {
   "cell_type": "code",
   "execution_count": null,
   "metadata": {},
   "outputs": [],
   "source": [
    "from itertools import combinations \n",
    "\n",
    "player = {}                                 # initializing dictionary to store players name(key) and their score(value)\n",
    "\n",
    "M = int(input(\"Enter the number of players on each side : \"))\n",
    "\n",
    "for i in range(2*M):                            #taking player name and scores from user\n",
    "    \n",
    "    k = input(\"Enter the name of player : \")\n",
    "    \n",
    "    v = float(input(\"Enter the Score : \"))\n",
    "    \n",
    "    player.update({k:v})                        #updating score and name of players in dict\n",
    "    \n",
    "name = player.keys()                           #list of all the players\n",
    "\n",
    "score = player.values()                     #list of their scores\n",
    "\n",
    "#making combination form all the players taking M at a time using inbuilt function\n",
    "arr1 = list(combinations(arr, M)) \n"
   ]
  },
  {
   "cell_type": "raw",
   "metadata": {},
   "source": []
  }
 ],
 "metadata": {
  "kernelspec": {
   "display_name": "Python 3",
   "language": "python",
   "name": "python3"
  },
  "language_info": {
   "codemirror_mode": {
    "name": "ipython",
    "version": 3
   },
   "file_extension": ".py",
   "mimetype": "text/x-python",
   "name": "python",
   "nbconvert_exporter": "python",
   "pygments_lexer": "ipython3",
   "version": "3.7.6"
  }
 },
 "nbformat": 4,
 "nbformat_minor": 4
}
