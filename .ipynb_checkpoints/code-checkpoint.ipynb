{
 "cells": [
  {
   "cell_type": "code",
   "execution_count": null,
   "metadata": {},
   "outputs": [],
   "source": [
    "from itertools import combinations \n",
    "player = {}\n",
    "M = int(input(\"Enter the number of players on each side : \"))\n",
    "\n",
    "for i in range(2*M):\n",
    "    k = input(\"Enter the name of player : \")\n",
    "    v = float(input(\"Enter the Score : \"))\n",
    "    player.update({k:v})\n",
    "    \n",
    "arr = player.keys() \n",
    "arr1 = print(list(combinations(arr, M)) )"
   ]
  }
 ],
 "metadata": {
  "kernelspec": {
   "display_name": "Python 3",
   "language": "python",
   "name": "python3"
  },
  "language_info": {
   "codemirror_mode": {
    "name": "ipython",
    "version": 3
   },
   "file_extension": ".py",
   "mimetype": "text/x-python",
   "name": "python",
   "nbconvert_exporter": "python",
   "pygments_lexer": "ipython3",
   "version": "3.7.6"
  }
 },
 "nbformat": 4,
 "nbformat_minor": 4
}
